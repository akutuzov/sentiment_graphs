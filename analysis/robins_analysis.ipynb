{
 "cells": [
  {
   "cell_type": "markdown",
   "metadata": {},
   "source": [
    "# Sentiment Parsing Analysis\n",
    "\n",
    "## Preliminaries\n",
    "\n",
    "### Import I/O and confusion functions"
   ]
  },
  {
   "cell_type": "code",
   "execution_count": null,
   "metadata": {},
   "outputs": [],
   "source": [
    "%cd ..\n",
    "import src.col_data as cd\n",
    "import src.confusion as cf\n",
    "import src.vocab as vcb\n",
    "%cd -\n",
    "import pickle\n",
    "from typing import List, Tuple\n",
    "import numpy as np\n",
    "import matplotlib.pyplot as plt\n",
    "from collections import defaultdict\n",
    "import itertools as it"
   ]
  },
  {
   "cell_type": "markdown",
   "metadata": {},
   "source": [
    "### Set the Main Parameters"
   ]
  },
  {
   "cell_type": "code",
   "execution_count": null,
   "metadata": {},
   "outputs": [],
   "source": [
    "data = \"../data/sent_graphs/\"\n",
    "experiments = \"../experiments/\"\n",
    "runs = [str(i) for i in range(1,6)]\n",
    "languages = !ls $experiments\n",
    "x = languages[0]\n",
    "flavours = !ls $experiments/$x\n",
    "dev = \"dev.conllu\"\n",
    "test = \"test.conllu\"\n",
    "train = \"train.conllu\"\n",
    "dev_pred = dev + \".pred\"\n",
    "test_pred = test + \".pred\""
   ]
  },
  {
   "cell_type": "markdown",
   "metadata": {},
   "source": [
    "#### Is everything where it should be?"
   ]
  },
  {
   "cell_type": "code",
   "execution_count": null,
   "metadata": {
    "scrolled": true
   },
   "outputs": [],
   "source": [
    "for l in languages:\n",
    "    for f in flavours:\n",
    "        print(l,f, end=\"\\n\\t\")\n",
    "        !ls $data/$l/$f\n",
    "        for r in runs:\n",
    "            print(r, end =\"\")\n",
    "            !ls $experiments/$l/$f/$r"
   ]
  },
  {
   "cell_type": "markdown",
   "metadata": {},
   "source": [
    "#### Create Vocabs per language"
   ]
  },
  {
   "cell_type": "code",
   "execution_count": null,
   "metadata": {},
   "outputs": [],
   "source": [
    "for l in languages:\n",
    "    sentences = []\n",
    "    for f in flavours:\n",
    "        path = \"/\".join([data, l, f]) + \"/\"\n",
    "        for fn in [\"dev.conllu\", \"test.conllu\", \"train.conllu\"]:\n",
    "            sentences.extend(cd.read_col_data(path + fn))\n",
    "    forms, norms, lemmas, uposs, xposs, synrels, semrels, chars, scoperels = vcb.make_vocabs(sentences)\n",
    "    print([len(v.w2i) for v in [forms, norms, lemmas, uposs, xposs, synrels, semrels, chars, scoperels]])\n",
    "    vocabs = vcb.Vocabs(forms, norms, lemmas, uposs, xposs, synrels, semrels, chars, scoperels)\n",
    "    with open(f\"{l}_vocabs.pickle\", \"wb\") as fh:\n",
    "        pickle.dump(vocabs, fh)"
   ]
  },
  {
   "cell_type": "markdown",
   "metadata": {},
   "source": [
    "## Analysis\n",
    "\n",
    "### Data itself\n",
    "\n",
    "- how many arcs are there? per label? per POS pair? per dependencies?=\n",
    "- how long are they?\n",
    "- overlap between flavours\n",
    "\n",
    "### Results\n",
    "\n",
    "- how many arcs?\n",
    "- how long?\n",
    "- overlap between flavours\n",
    "- precision / recall / fscore per label / POS pair / dependencies / arc length\n",
    "- which schemes are best for which label?\n"
   ]
  },
  {
   "cell_type": "code",
   "execution_count": null,
   "metadata": {},
   "outputs": [],
   "source": [
    "!ls "
   ]
  },
  {
   "cell_type": "code",
   "execution_count": null,
   "metadata": {},
   "outputs": [],
   "source": [
    "def load_vocab(fn: str) -> vcb.Vocabs:\n",
    "    with open(fn, \"rb\") as fh:\n",
    "        v = pickle.load(fh)\n",
    "    return v"
   ]
  },
  {
   "cell_type": "code",
   "execution_count": null,
   "metadata": {},
   "outputs": [],
   "source": [
    "%matplotlib inline"
   ]
  },
  {
   "cell_type": "code",
   "execution_count": null,
   "metadata": {},
   "outputs": [],
   "source": [
    "colours = ['tab:blue', 'tab:orange', 'tab:green', 'tab:red', 'tab:purple', 'tab:brown', 'tab:pink', 'tab:gray', 'tab:olive', 'tab:cyan']"
   ]
  },
  {
   "cell_type": "code",
   "execution_count": null,
   "metadata": {},
   "outputs": [],
   "source": [
    "#         ax.bar(ind+width/2, curr, width/2, bottom=prev, label=alternative[feat], color=colours[i],\n",
    "#               alpha=0.7, linewidth=0.8, edgecolor=colours[i], align=\"center\")\n",
    "#    ax.set_xticks(np.arange(0, m))\n",
    "#    ax.set_xticklabels(sorted(c.keys(), key=lambda x: keysort(x))[-m:], rotation=45)"
   ]
  },
  {
   "cell_type": "code",
   "execution_count": null,
   "metadata": {},
   "outputs": [],
   "source": [
    "# little helper for plotting\n",
    "_1 = lambda x: 1 if x % 2 == 1 else -1"
   ]
  },
  {
   "cell_type": "markdown",
   "metadata": {},
   "source": [
    "#### Simple Lenghts"
   ]
  },
  {
   "cell_type": "code",
   "execution_count": null,
   "metadata": {
    "scrolled": true
   },
   "outputs": [],
   "source": [
    "width = 1/8\n",
    "for l in languages:\n",
    "    plots = {}\n",
    "    min_maxes = defaultdict(lambda : [float(\"inf\"), -float(\"inf\")])\n",
    "    for i, fl in enumerate(flavours):\n",
    "        xs = \"/\".join([data, l, fl])\n",
    "        v = load_vocab(l + \"_vocabs.pickle\")\n",
    "\n",
    "        sentences = []\n",
    "        for tdt in [train, dev, test]:\n",
    "            sentences.extend(cd.read_col_data(xs + \"/\" + tdt))\n",
    "\n",
    "        d = {}\n",
    "        for sentence in sentences:\n",
    "            m = sentence.make_matrix(\"scope\", label=True, w2i=v.scoperels.w2i)\n",
    "            for src, tgt in zip(*np.where(m != 0)):\n",
    "                if src == 0:\n",
    "                    lngth = 0\n",
    "                else:\n",
    "                    lngth = src - tgt\n",
    "                lbl = m[src, tgt]\n",
    "                if lbl not in d:\n",
    "                    d[lbl] = {}\n",
    "                if lngth not in d[lbl]:\n",
    "                    d[lbl][lngth] = 0\n",
    "                d[lbl][lngth] += 1\n",
    "        for lbl in d:\n",
    "            #print(v.scoperels.i2w[lbl])\n",
    "            xy = sorted(d[lbl].items(), key=lambda x: -x[1])\n",
    "            #print(xy)\n",
    "            xs, ys = zip(*xy)\n",
    "            min_maxes[lbl][0] = min([min(xs), min_maxes[lbl][0]])\n",
    "            min_maxes[lbl][1] = max([max(xs), min_maxes[lbl][1]])\n",
    "            if lbl not in plots:\n",
    "                plots[lbl] = []\n",
    "            plots[lbl].append((xs, ys, fl))\n",
    "    for lbl in plots:\n",
    "        fig, ax = plt.subplots(figsize=(19, 6))\n",
    "        ax.set_title(l + \" \" + v.scoperels.i2w[lbl])\n",
    "        min_max = min_maxes[lbl]\n",
    "        myrange = {i: j for j, i in enumerate(range(min_max[0], min_max[1] + 1))}\n",
    "        ax.set_xticks(np.arange(min_max[0], min_max[1]+1))\n",
    "        ax.set_xticklabels(np.arange(min_max[0], min_max[1]+1), rotation=45)\n",
    "        _xs = np.arange(min_max[0], min_max[1]+1)\n",
    "        #ax.set_xticklabels(max_ti.cks, rotation=45)\n",
    "        for i, (xs, ys, fl) in enumerate(plots[lbl]):\n",
    "            xs = np.array(xs)\n",
    "            #_xs = np.zeros(len(myrange))\n",
    "            _ys = np.zeros(len(myrange))\n",
    "            xs, ys = zip(*(sorted(zip(xs, ys), key=lambda x: x[1])))\n",
    "            for x,y in zip(xs, ys):\n",
    "                j = myrange[x]\n",
    "                _ys[j] = y\n",
    "            plt.bar(_xs + (i * width/2 * _1(i)), _ys, width/2, color=colours[i], alpha=0.7, linewidth=0.8, edgecolor=colours[i], align=\"center\", label=fl)\n",
    "        ax.legend()\n",
    "        fig.tight_layout()\n",
    "        plt.show()\n",
    "    "
   ]
  },
  {
   "cell_type": "markdown",
   "metadata": {},
   "source": [
    "#### Overlap"
   ]
  },
  {
   "cell_type": "code",
   "execution_count": null,
   "metadata": {
    "scrolled": true
   },
   "outputs": [],
   "source": [
    "# overlap\n",
    "# cell entries should match\n",
    "# should be nonzero for unlabelled\n",
    "# i,j == j,i for undirected\n",
    "def overlap(m1: np.ndarray, m2: np.ndarray,\n",
    "            labelled: bool = True, direction: bool = True\n",
    "           ) -> List[Tuple[int, int, float]]:  # indices and label\n",
    "    results = []\n",
    "    assert m1.shape == m2.shape\n",
    "    #if not m1.shape == m2.shape:\n",
    "    #    print(m1.shape, m2.shape)\n",
    "    #    return results\n",
    "    d1, d2 = m1.shape\n",
    "    scnd_dim = lambda x: range(x, d2)\n",
    "    for i in range(d1):\n",
    "        if direction:\n",
    "            x = 0\n",
    "        else:\n",
    "            x = i\n",
    "        for j in scnd_dim(x):\n",
    "            if m1[i,j]:\n",
    "                a = m1[i,j]\n",
    "            elif m1[j,i] and not direction:\n",
    "                a = m1[j,i]\n",
    "            else:\n",
    "                continue\n",
    "            if m2[i,j]:\n",
    "                b = m2[i,j]\n",
    "            elif m2[j,i] and not direction:\n",
    "                b = m2[j,i]\n",
    "            else:\n",
    "                continue\n",
    "            if a == b:\n",
    "                results.append((i, j, a))\n",
    "            elif a and b and not labelled:\n",
    "                results.append((i, j, 1))\n",
    "    return results\n",
    "                    \n",
    "np.random.seed(1)\n",
    "m1 = np.random.choice(3, (5,5))\n",
    "m2 = np.random.choice(3, (5,5))\n",
    "overlap(m1,m2, labelled=False), m1, m2"
   ]
  },
  {
   "cell_type": "code",
   "execution_count": null,
   "metadata": {
    "scrolled": false
   },
   "outputs": [],
   "source": [
    "def get_arcs(m: np.ndarray) -> List[Tuple[int, int, float]]:\n",
    "    return [(i, j, m[i,j]) for i,j in zip(*np.nonzero(m))]\n",
    "\n",
    "m1, get_arcs(m1)"
   ]
  },
  {
   "cell_type": "code",
   "execution_count": null,
   "metadata": {},
   "outputs": [],
   "source": [
    "# for every language\n",
    "# for every flavour\n",
    "# save sentences for each flavour in a >list<\n",
    "# all combinations (itertools) for all lengths (2 to number of flavours)\n",
    "# dictionary with language -> flavour combos -> label -> count\n",
    "# label can then be exchanged with POS-pair or dependencies\n",
    "# ignore direction"
   ]
  },
  {
   "cell_type": "code",
   "execution_count": null,
   "metadata": {
    "scrolled": true
   },
   "outputs": [],
   "source": [
    "def get_overlapping(lang: str,\n",
    "                    labelled: bool = True,\n",
    "                    direction: bool = True):\n",
    "    v = load_vocab(lang + \"_vocabs.pickle\")\n",
    "    sentences = {}\n",
    "    for fl in flavours:\n",
    "        xs = \"/\".join([data, lang, fl])\n",
    "        sentences[fl] = []\n",
    "        for tdt in [dev, test]:\n",
    "            sentences[fl].extend([sen.make_matrix(\"scope\", label=True, w2i=v.scoperels.w2i)\n",
    "                                    for sen in cd.read_col_data(xs + \"/\" + tdt)])\n",
    "            \n",
    "    cache = {}  # stores overlaps for sentences so that only those need to be compared            \n",
    "    for combo_len in range(1, len(flavours) + 1):\n",
    "        for combo in it.combinations(flavours, combo_len):\n",
    "            for mi, mss in enumerate(zip(*(sentences[c] for c in combo))):\n",
    "                if len(combo) == 1:\n",
    "                    cache[(mi, combo)] = get_arcs(mss[0])\n",
    "                elif len(combo) == 2:\n",
    "                    # compute overlap between a pair\n",
    "                    try:\n",
    "                        cache[(mi, combo)] = overlap(mss[0], mss[1], labelled=labelled, direction=direction)\n",
    "                    except AssertionError:\n",
    "                        print(mi, combo)\n",
    "                elif len(combo) > 2 and (mi, combo[:-1]) in cache:\n",
    "                    # compute overlap for the arcs in cache\n",
    "                    m = mss[-1]\n",
    "                    os = []\n",
    "                    for src, tgt, lbl in cache[(mi, combo[:-1])]:\n",
    "                        if m[src, tgt] == lbl:\n",
    "                            os.append((src, tgt, lbl))\n",
    "                    if os:\n",
    "                        cache[(mi, combo)] = os\n",
    "                else:\n",
    "                    # do nothing\n",
    "                    pass\n",
    "    return cache"
   ]
  },
  {
   "cell_type": "code",
   "execution_count": null,
   "metadata": {
    "scrolled": true
   },
   "outputs": [],
   "source": [
    "def get_overlapping_experiments(lang: str,\n",
    "                    labelled: bool = True,\n",
    "                    direction: bool = True):\n",
    "    v = load_vocab(lang + \"_vocabs.pickle\")\n",
    "    sentences = {}\n",
    "    for fl in flavours:\n",
    "        xs = \"/\".join([experiments, lang, fl, \"1\"])\n",
    "        sentences[fl] = []\n",
    "        for tdt in [dev_pred, test_pred]:\n",
    "            sentences[fl].extend([sen.make_matrix(\"scope\", label=True, w2i=v.scoperels.w2i)\n",
    "                                    for sen in cd.read_col_data(xs + \"/\" + tdt)])\n",
    "    \n",
    "    cache = {}  # stores overlaps for sentences so that only those need to be compared            \n",
    "    for combo_len in range(1, len(flavours) + 1):\n",
    "        for combo in it.combinations(flavours, combo_len):\n",
    "            for mi, mss in enumerate(zip(*(sentences[c] for c in combo))):\n",
    "                if len(combo) == 1:\n",
    "                    cache[(mi, combo)] = get_arcs(mss[0])\n",
    "                elif len(combo) == 2:\n",
    "                    # compute overlap between a pair\n",
    "                    try:\n",
    "                        cache[(mi, combo)] = overlap(mss[0], mss[1], labelled=labelled, direction=direction)\n",
    "                    except AssertionError:\n",
    "                        # print(mi, combo)\n",
    "                        pass\n",
    "                elif len(combo) > 2 and (mi, combo[:-1]) in cache:\n",
    "                    # compute overlap for the arcs in cache\n",
    "                    m = mss[-1]\n",
    "                    os = []\n",
    "                    for src, tgt, lbl in cache[(mi, combo[:-1])]:\n",
    "                        if m[src, tgt] == lbl:\n",
    "                            os.append((src, tgt, lbl))\n",
    "                    if os:\n",
    "                        cache[(mi, combo)] = os\n",
    "                else:\n",
    "                    # do nothing\n",
    "                    pass\n",
    "    return cache"
   ]
  },
  {
   "cell_type": "code",
   "execution_count": null,
   "metadata": {},
   "outputs": [],
   "source": [
    "def eval_overlapping(lang: str, cache):\n",
    "    v = load_vocab(lang + \"_vocabs.pickle\")\n",
    "    for i in range(1, len(flavours) + 1):\n",
    "        cnt = {}\n",
    "        for (_, combo), os in filter(lambda x: len(x[0][1]) == i, cache.items()):\n",
    "            for s,t,l in os:\n",
    "                #if s == 0:\n",
    "                #    continue\n",
    "                if combo not in cnt:\n",
    "                    cnt[combo] = {}\n",
    "                if l not in cnt[combo]:\n",
    "                    cnt[combo][l] = 0\n",
    "                cnt[combo][l] += 1\n",
    "        print(i)\n",
    "        for combo in sorted(cnt, key=lambda x: len(x)):\n",
    "            print(combo)\n",
    "            for l in sorted(cnt[combo], key=lambda x: cnt[combo][x]):\n",
    "                print(\"\\t\",v.scoperels.i2w[l], cnt[combo][l])"
   ]
  },
  {
   "cell_type": "code",
   "execution_count": null,
   "metadata": {},
   "outputs": [],
   "source": [
    "for lang in languages:\n",
    "    print(lang)\n",
    "    eval_overlapping(lang, get_overlapping(lang))"
   ]
  },
  {
   "cell_type": "code",
   "execution_count": null,
   "metadata": {},
   "outputs": [],
   "source": [
    "for lang in languages:\n",
    "    print(lang)\n",
    "    eval_overlapping(lang, get_overlapping_experiments(lang))"
   ]
  },
  {
   "cell_type": "markdown",
   "metadata": {},
   "source": [
    "## Predictions\n",
    "\n",
    "### What do various flavours do right?\n",
    "\n",
    "#### True Positives"
   ]
  },
  {
   "cell_type": "code",
   "execution_count": null,
   "metadata": {},
   "outputs": [],
   "source": [
    "# same strategy as for overlap, but also overlap of pred with gold"
   ]
  },
  {
   "cell_type": "code",
   "execution_count": null,
   "metadata": {
    "scrolled": true
   },
   "outputs": [],
   "source": [
    "def get_overlapping_tp(lang: str,\n",
    "                    labelled: bool = True,\n",
    "                    direction: bool = True):\n",
    "    v = load_vocab(lang + \"_vocabs.pickle\")\n",
    "    sentences = {}\n",
    "    gold_sentences = {}\n",
    "    for fl in flavours:\n",
    "        xs = \"/\".join([experiments, lang, fl, \"1\"])\n",
    "        ys = \"/\".join([data, lang, fl])\n",
    "        sentences[fl] = []\n",
    "        gold_sentences[fl] = []\n",
    "        for tdt in [dev, test]:\n",
    "            sentences[fl].extend([sen.make_matrix(\"scope\", label=True, w2i=v.scoperels.w2i)\n",
    "                                    for sen in cd.read_col_data(xs + \"/\" + tdt + \".pred\")])\n",
    "            gold_sentences[fl].extend([sen.make_matrix(\"scope\", label=True, w2i=v.scoperels.w2i)\n",
    "                                    for sen in cd.read_col_data(ys + \"/\" + tdt)])\n",
    "    \n",
    "    cache = {}  # stores overlaps for sentences so that only those need to be compared            \n",
    "    for combo_len in range(1, len(flavours) + 1):\n",
    "        for combo in it.combinations(flavours, combo_len):\n",
    "            for mi, mss in enumerate(zip(*(sentences[c] for c in combo))):\n",
    "                if len(combo) == 1:\n",
    "                    gsen = gold_sentences[combo[0]][mi]\n",
    "                    cache[(mi, combo)] = overlap(gsen, mss[0], labelled=labelled, direction=direction)\n",
    "                    #cache[(mi, combo)] = get_arcs(mss[0])\n",
    "                elif len(combo) > 1 and (mi, combo[:-1]) in cache:\n",
    "                    # compute overlap for the arcs in cache\n",
    "                    m = mss[-1]\n",
    "                    os = []\n",
    "                    for src, tgt, lbl in cache[(mi, combo[:-1])]:\n",
    "                        if m[src, tgt] == lbl:\n",
    "                            os.append((src, tgt, lbl))\n",
    "                    if os:\n",
    "                        cache[(mi, combo)] = os\n",
    "                else:\n",
    "                    # do nothing\n",
    "                    pass\n",
    "    return cache"
   ]
  },
  {
   "cell_type": "code",
   "execution_count": null,
   "metadata": {},
   "outputs": [],
   "source": [
    "for lang in languages:\n",
    "    print(lang)\n",
    "    eval_overlapping(lang, get_overlapping_tp(lang))"
   ]
  },
  {
   "cell_type": "markdown",
   "metadata": {},
   "source": [
    "### What do various flavours do wrong?\n",
    "\n",
    "#### False Positives"
   ]
  },
  {
   "cell_type": "code",
   "execution_count": null,
   "metadata": {
    "scrolled": false
   },
   "outputs": [],
   "source": [
    "def overlap_fp(g: np.ndarray, p: np.ndarray,\n",
    "            labelled: bool = True, direction: bool = True\n",
    "           ) -> List[Tuple[int, int, float]]:  # indices and label\n",
    "    results = []\n",
    "    assert g.shape == p.shape\n",
    "    d1, d2 = g.shape\n",
    "    scnd_dim = lambda x: range(x, d2)\n",
    "    for i in range(d1):\n",
    "        if direction:\n",
    "            x = 0\n",
    "        else:\n",
    "            x = i\n",
    "        for j in scnd_dim(x):\n",
    "            if p[i,j]:\n",
    "                a = p[i,j]\n",
    "            elif p[j,i] and not direction:\n",
    "                a = p[j,i]\n",
    "            else:\n",
    "                continue\n",
    "            if not g[i,j] or (g[j,i] and not direction):\n",
    "                results.append((i, j, a))\n",
    "            #elif g[i,j] and g[i,j] != a:\n",
    "            #    results.append((i, j, a))\n",
    "            #elif not direction and g[j,i] and g[j,i] != a:\n",
    "            #    results.append((i, j, a))\n",
    "\n",
    "    return results\n",
    "                    \n",
    "np.random.seed(1)\n",
    "m1 = np.random.choice(3, (5,5))\n",
    "m2 = np.random.choice(3, (5,5))\n",
    "overlap_fp(m1,m2, labelled=True, direction=True), m1, m2"
   ]
  },
  {
   "cell_type": "code",
   "execution_count": null,
   "metadata": {
    "scrolled": true
   },
   "outputs": [],
   "source": [
    "def get_overlapping_fp(lang: str,\n",
    "                    labelled: bool = True,\n",
    "                    direction: bool = True):\n",
    "    v = load_vocab(lang + \"_vocabs.pickle\")\n",
    "    sentences = {}\n",
    "    gold_sentences = {}\n",
    "    for fl in flavours:\n",
    "        xs = \"/\".join([experiments, lang, fl, \"1\"])\n",
    "        ys = \"/\".join([data, lang, fl])\n",
    "        sentences[fl] = []\n",
    "        gold_sentences[fl] = []\n",
    "        for tdt in [dev, test]:\n",
    "            sentences[fl].extend([sen.make_matrix(\"scope\", label=True, w2i=v.scoperels.w2i)\n",
    "                                    for sen in cd.read_col_data(xs + \"/\" + tdt + \".pred\")])\n",
    "            gold_sentences[fl].extend([sen.make_matrix(\"scope\", label=True, w2i=v.scoperels.w2i)\n",
    "                                    for sen in cd.read_col_data(ys + \"/\" + tdt)])\n",
    "    \n",
    "    cache = {}  # stores overlaps for sentences so that only those need to be compared            \n",
    "    for combo_len in range(1, len(flavours) + 1):\n",
    "        for combo in it.combinations(flavours, combo_len):\n",
    "            for mi, mss in enumerate(zip(*(sentences[c] for c in combo))):\n",
    "                if len(combo) == 1:\n",
    "                    gsen = gold_sentences[combo[0]][mi]\n",
    "                    cache[(mi, combo)] = overlap_fp(gsen, mss[0], labelled=labelled, direction=direction)\n",
    "                    #cache[(mi, combo)] = get_arcs(mss[0])\n",
    "                elif len(combo) > 1 and (mi, combo[:-1]) in cache:\n",
    "                    # compute overlap for the arcs in cache\n",
    "                    m = mss[-1]\n",
    "                    os = []\n",
    "                    for src, tgt, lbl in cache[(mi, combo[:-1])]:\n",
    "                        if m[src, tgt] == lbl:\n",
    "                            os.append((src, tgt, lbl))\n",
    "                    if os:\n",
    "                        cache[(mi, combo)] = os\n",
    "                else:\n",
    "                    # do nothing\n",
    "                    pass\n",
    "    return cache"
   ]
  },
  {
   "cell_type": "code",
   "execution_count": null,
   "metadata": {},
   "outputs": [],
   "source": [
    "for lang in languages:\n",
    "    print(lang)\n",
    "    eval_overlapping(lang, get_overlapping_fp(lang))"
   ]
  },
  {
   "cell_type": "markdown",
   "metadata": {},
   "source": [
    "#### False Negatives"
   ]
  },
  {
   "cell_type": "code",
   "execution_count": null,
   "metadata": {
    "scrolled": false
   },
   "outputs": [],
   "source": [
    "def overlap_fn(g: np.ndarray, p: np.ndarray,\n",
    "            labelled: bool = True, direction: bool = True\n",
    "           ) -> List[Tuple[int, int, float]]:  # indices and label\n",
    "    results = []\n",
    "    assert g.shape == p.shape\n",
    "    d1, d2 = g.shape\n",
    "    scnd_dim = lambda x: range(x, d2)\n",
    "    for i in range(d1):\n",
    "        if direction:\n",
    "            x = 0\n",
    "        else:\n",
    "            x = i\n",
    "        for j in scnd_dim(x):\n",
    "            if g[i,j]:\n",
    "                a = g[i,j]\n",
    "            elif g[j,i] and not direction:\n",
    "                a = g[j,i]\n",
    "            else:\n",
    "                continue\n",
    "            if not p[i,j] or (p[j,i] and not direction):\n",
    "                results.append((i, j, a))\n",
    "            #elif g[i,j] and g[i,j] != a:\n",
    "            #    results.append((i, j, a))\n",
    "            #elif not direction and g[j,i] and g[j,i] != a:\n",
    "            #    results.append((i, j, a))\n",
    "\n",
    "    return results\n",
    "                    \n",
    "np.random.seed(1)\n",
    "m1 = np.random.choice(3, (5,5))\n",
    "m2 = np.random.choice(3, (5,5))\n",
    "overlap_fn(m1,m2, labelled=True, direction=True), m1, m2"
   ]
  },
  {
   "cell_type": "code",
   "execution_count": null,
   "metadata": {
    "scrolled": true
   },
   "outputs": [],
   "source": [
    "def get_overlapping_fn(lang: str,\n",
    "                    labelled: bool = True,\n",
    "                    direction: bool = True):\n",
    "    v = load_vocab(lang + \"_vocabs.pickle\")\n",
    "    sentences = {}\n",
    "    gold_sentences = {}\n",
    "    for fl in flavours:\n",
    "        xs = \"/\".join([experiments, lang, fl, \"1\"])\n",
    "        ys = \"/\".join([data, lang, fl])\n",
    "        sentences[fl] = []\n",
    "        gold_sentences[fl] = []\n",
    "        for tdt in [dev, test]:\n",
    "            sentences[fl].extend([sen.make_matrix(\"scope\", label=True, w2i=v.scoperels.w2i)\n",
    "                                    for sen in cd.read_col_data(xs + \"/\" + tdt + \".pred\")])\n",
    "            gold_sentences[fl].extend([sen.make_matrix(\"scope\", label=True, w2i=v.scoperels.w2i)\n",
    "                                    for sen in cd.read_col_data(ys + \"/\" + tdt)])\n",
    "    \n",
    "    cache = {}  # stores overlaps for sentences so that only those need to be compared            \n",
    "    for combo_len in range(1, len(flavours) + 1):\n",
    "        for combo in it.combinations(flavours, combo_len):\n",
    "            for mi, mss in enumerate(zip(*(sentences[c] for c in combo))):\n",
    "                if len(combo) == 1:\n",
    "                    gsen = gold_sentences[combo[0]][mi]\n",
    "                    cache[(mi, combo)] = overlap_fn(gsen, mss[0], labelled=labelled, direction=direction)\n",
    "                    #cache[(mi, combo)] = get_arcs(mss[0])\n",
    "                elif len(combo) > 1 and (mi, combo[:-1]) in cache:\n",
    "                    # compute overlap for the arcs in cache\n",
    "                    m = mss[-1]\n",
    "                    os = []\n",
    "                    for src, tgt, lbl in cache[(mi, combo[:-1])]:\n",
    "                        if m[src, tgt] == lbl:\n",
    "                            os.append((src, tgt, lbl))\n",
    "                    if os:\n",
    "                        cache[(mi, combo)] = os\n",
    "                else:\n",
    "                    # do nothing\n",
    "                    pass\n",
    "    return cache"
   ]
  },
  {
   "cell_type": "code",
   "execution_count": null,
   "metadata": {},
   "outputs": [],
   "source": [
    "for lang in languages:\n",
    "    print(lang)\n",
    "    eval_overlapping(lang, get_overlapping_fn(lang))"
   ]
  },
  {
   "cell_type": "markdown",
   "metadata": {},
   "source": [
    "## Compare Runs for each Flavour\n",
    "\n",
    "### What is easy & what is difficult?"
   ]
  }
 ],
 "metadata": {
  "kernelspec": {
   "display_name": "Python 3",
   "language": "python",
   "name": "python3"
  },
  "language_info": {
   "codemirror_mode": {
    "name": "ipython",
    "version": 3
   },
   "file_extension": ".py",
   "mimetype": "text/x-python",
   "name": "python",
   "nbconvert_exporter": "python",
   "pygments_lexer": "ipython3",
   "version": "3.8.5"
  }
 },
 "nbformat": 4,
 "nbformat_minor": 4
}
